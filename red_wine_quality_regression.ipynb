{
  "nbformat": 4,
  "nbformat_minor": 0,
  "metadata": {
    "colab": {
      "name": "red_wine_quality_regression.ipynb",
      "provenance": [],
      "collapsed_sections": [],
      "authorship_tag": "ABX9TyMuMk1ixrA2WAW7vPBiK2eL",
      "include_colab_link": true
    },
    "kernelspec": {
      "name": "python3",
      "display_name": "Python 3"
    },
    "widgets": {
      "application/vnd.jupyter.widget-state+json": {
        "fa2bd8af886f46cb8828b87c5e163f67": {
          "model_module": "@jupyter-widgets/controls",
          "model_name": "HBoxModel",
          "state": {
            "_view_name": "HBoxView",
            "_dom_classes": [],
            "_model_name": "HBoxModel",
            "_view_module": "@jupyter-widgets/controls",
            "_model_module_version": "1.5.0",
            "_view_count": null,
            "_view_module_version": "1.5.0",
            "box_style": "",
            "layout": "IPY_MODEL_f2cfeb8f293440a5997043a2502b2e47",
            "_model_module": "@jupyter-widgets/controls",
            "children": [
              "IPY_MODEL_f8c0695b55a243b4a92a3b5e8520c592",
              "IPY_MODEL_041418937ef14308b4576915f8b87c01"
            ]
          }
        },
        "f2cfeb8f293440a5997043a2502b2e47": {
          "model_module": "@jupyter-widgets/base",
          "model_name": "LayoutModel",
          "state": {
            "_view_name": "LayoutView",
            "grid_template_rows": null,
            "right": null,
            "justify_content": null,
            "_view_module": "@jupyter-widgets/base",
            "overflow": null,
            "_model_module_version": "1.2.0",
            "_view_count": null,
            "flex_flow": null,
            "width": null,
            "min_width": null,
            "border": null,
            "align_items": null,
            "bottom": null,
            "_model_module": "@jupyter-widgets/base",
            "top": null,
            "grid_column": null,
            "overflow_y": null,
            "overflow_x": null,
            "grid_auto_flow": null,
            "grid_area": null,
            "grid_template_columns": null,
            "flex": null,
            "_model_name": "LayoutModel",
            "justify_items": null,
            "grid_row": null,
            "max_height": null,
            "align_content": null,
            "visibility": null,
            "align_self": null,
            "height": null,
            "min_height": null,
            "padding": null,
            "grid_auto_rows": null,
            "grid_gap": null,
            "max_width": null,
            "order": null,
            "_view_module_version": "1.2.0",
            "grid_template_areas": null,
            "object_position": null,
            "object_fit": null,
            "grid_auto_columns": null,
            "margin": null,
            "display": null,
            "left": null
          }
        },
        "f8c0695b55a243b4a92a3b5e8520c592": {
          "model_module": "@jupyter-widgets/controls",
          "model_name": "FloatProgressModel",
          "state": {
            "_view_name": "ProgressView",
            "style": "IPY_MODEL_afb2255d788c4049bbec4beb375a4958",
            "_dom_classes": [],
            "description": "100%",
            "_model_name": "FloatProgressModel",
            "bar_style": "success",
            "max": 149,
            "_view_module": "@jupyter-widgets/controls",
            "_model_module_version": "1.5.0",
            "value": 149,
            "_view_count": null,
            "_view_module_version": "1.5.0",
            "orientation": "horizontal",
            "min": 0,
            "description_tooltip": null,
            "_model_module": "@jupyter-widgets/controls",
            "layout": "IPY_MODEL_3b88ab77d46b46aea8fe621c12a80835"
          }
        },
        "041418937ef14308b4576915f8b87c01": {
          "model_module": "@jupyter-widgets/controls",
          "model_name": "HTMLModel",
          "state": {
            "_view_name": "HTMLView",
            "style": "IPY_MODEL_09a32504d2f049bd9f9e082e38f44a4c",
            "_dom_classes": [],
            "description": "",
            "_model_name": "HTMLModel",
            "placeholder": "​",
            "_view_module": "@jupyter-widgets/controls",
            "_model_module_version": "1.5.0",
            "value": " 149/149 [00:09&lt;00:00, 15.31it/s]",
            "_view_count": null,
            "_view_module_version": "1.5.0",
            "description_tooltip": null,
            "_model_module": "@jupyter-widgets/controls",
            "layout": "IPY_MODEL_ac55d9fde4054645b83d34c0099bef2e"
          }
        },
        "afb2255d788c4049bbec4beb375a4958": {
          "model_module": "@jupyter-widgets/controls",
          "model_name": "ProgressStyleModel",
          "state": {
            "_view_name": "StyleView",
            "_model_name": "ProgressStyleModel",
            "description_width": "initial",
            "_view_module": "@jupyter-widgets/base",
            "_model_module_version": "1.5.0",
            "_view_count": null,
            "_view_module_version": "1.2.0",
            "bar_color": null,
            "_model_module": "@jupyter-widgets/controls"
          }
        },
        "3b88ab77d46b46aea8fe621c12a80835": {
          "model_module": "@jupyter-widgets/base",
          "model_name": "LayoutModel",
          "state": {
            "_view_name": "LayoutView",
            "grid_template_rows": null,
            "right": null,
            "justify_content": null,
            "_view_module": "@jupyter-widgets/base",
            "overflow": null,
            "_model_module_version": "1.2.0",
            "_view_count": null,
            "flex_flow": null,
            "width": null,
            "min_width": null,
            "border": null,
            "align_items": null,
            "bottom": null,
            "_model_module": "@jupyter-widgets/base",
            "top": null,
            "grid_column": null,
            "overflow_y": null,
            "overflow_x": null,
            "grid_auto_flow": null,
            "grid_area": null,
            "grid_template_columns": null,
            "flex": null,
            "_model_name": "LayoutModel",
            "justify_items": null,
            "grid_row": null,
            "max_height": null,
            "align_content": null,
            "visibility": null,
            "align_self": null,
            "height": null,
            "min_height": null,
            "padding": null,
            "grid_auto_rows": null,
            "grid_gap": null,
            "max_width": null,
            "order": null,
            "_view_module_version": "1.2.0",
            "grid_template_areas": null,
            "object_position": null,
            "object_fit": null,
            "grid_auto_columns": null,
            "margin": null,
            "display": null,
            "left": null
          }
        },
        "09a32504d2f049bd9f9e082e38f44a4c": {
          "model_module": "@jupyter-widgets/controls",
          "model_name": "DescriptionStyleModel",
          "state": {
            "_view_name": "StyleView",
            "_model_name": "DescriptionStyleModel",
            "description_width": "",
            "_view_module": "@jupyter-widgets/base",
            "_model_module_version": "1.5.0",
            "_view_count": null,
            "_view_module_version": "1.2.0",
            "_model_module": "@jupyter-widgets/controls"
          }
        },
        "ac55d9fde4054645b83d34c0099bef2e": {
          "model_module": "@jupyter-widgets/base",
          "model_name": "LayoutModel",
          "state": {
            "_view_name": "LayoutView",
            "grid_template_rows": null,
            "right": null,
            "justify_content": null,
            "_view_module": "@jupyter-widgets/base",
            "overflow": null,
            "_model_module_version": "1.2.0",
            "_view_count": null,
            "flex_flow": null,
            "width": null,
            "min_width": null,
            "border": null,
            "align_items": null,
            "bottom": null,
            "_model_module": "@jupyter-widgets/base",
            "top": null,
            "grid_column": null,
            "overflow_y": null,
            "overflow_x": null,
            "grid_auto_flow": null,
            "grid_area": null,
            "grid_template_columns": null,
            "flex": null,
            "_model_name": "LayoutModel",
            "justify_items": null,
            "grid_row": null,
            "max_height": null,
            "align_content": null,
            "visibility": null,
            "align_self": null,
            "height": null,
            "min_height": null,
            "padding": null,
            "grid_auto_rows": null,
            "grid_gap": null,
            "max_width": null,
            "order": null,
            "_view_module_version": "1.2.0",
            "grid_template_areas": null,
            "object_position": null,
            "object_fit": null,
            "grid_auto_columns": null,
            "margin": null,
            "display": null,
            "left": null
          }
        }
      }
    }
  },
  "cells": [
    {
      "cell_type": "markdown",
      "metadata": {
        "id": "view-in-github",
        "colab_type": "text"
      },
      "source": [
        "<a href=\"https://colab.research.google.com/github/MehdiMitiche/kaggle-red-wine-quality-regression/blob/main/red_wine_quality_regression.ipynb\" target=\"_parent\"><img src=\"https://colab.research.google.com/assets/colab-badge.svg\" alt=\"Open In Colab\"/></a>"
      ]
    },
    {
      "cell_type": "code",
      "metadata": {
        "colab": {
          "base_uri": "https://localhost:8080/"
        },
        "id": "jHHDfYVO5McW",
        "outputId": "29bffc88-5851-4c8e-95bd-4f4950e13cc7"
      },
      "source": [
        "from google.colab import drive\r\n",
        "drive.mount(\"/content/gdrive\")"
      ],
      "execution_count": 1,
      "outputs": [
        {
          "output_type": "stream",
          "text": [
            "Mounted at /content/gdrive\n"
          ],
          "name": "stdout"
        }
      ]
    },
    {
      "cell_type": "code",
      "metadata": {
        "id": "SpqxBAbl5Q7U"
      },
      "source": [
        "#we import the libraries\r\n",
        "import pandas as pd\r\n",
        "import seaborn as sns\r\n",
        "import matplotlib.pyplot as plt\r\n",
        "import numpy as np\r\n",
        "from tqdm.notebook import tqdm\r\n",
        "\r\n",
        "import torch\r\n",
        "import torch.nn as nn\r\n",
        "import torch.functional as F\r\n",
        "import torch.optim as optim\r\n",
        "from torch.utils.data import Dataset,DataLoader \r\n",
        "\r\n",
        "from sklearn.preprocessing import MinMaxScaler\r\n",
        "from sklearn.model_selection import train_test_split\r\n",
        "from sklearn.metrics import mean_squared_error, r2_score"
      ],
      "execution_count": 2,
      "outputs": []
    },
    {
      "cell_type": "code",
      "metadata": {
        "colab": {
          "base_uri": "https://localhost:8080/",
          "height": 425
        },
        "id": "tfKF1rjN5wG7",
        "outputId": "c238b1fb-0636-4c1a-ff0b-6e51adb2b7b4"
      },
      "source": [
        "data = pd.read_csv(\"/content/gdrive/My Drive/red_wine_regression/winequality-red.csv\")\r\n",
        "data"
      ],
      "execution_count": 3,
      "outputs": [
        {
          "output_type": "execute_result",
          "data": {
            "text/html": [
              "<div>\n",
              "<style scoped>\n",
              "    .dataframe tbody tr th:only-of-type {\n",
              "        vertical-align: middle;\n",
              "    }\n",
              "\n",
              "    .dataframe tbody tr th {\n",
              "        vertical-align: top;\n",
              "    }\n",
              "\n",
              "    .dataframe thead th {\n",
              "        text-align: right;\n",
              "    }\n",
              "</style>\n",
              "<table border=\"1\" class=\"dataframe\">\n",
              "  <thead>\n",
              "    <tr style=\"text-align: right;\">\n",
              "      <th></th>\n",
              "      <th>fixed acidity</th>\n",
              "      <th>volatile acidity</th>\n",
              "      <th>citric acid</th>\n",
              "      <th>residual sugar</th>\n",
              "      <th>chlorides</th>\n",
              "      <th>free sulfur dioxide</th>\n",
              "      <th>total sulfur dioxide</th>\n",
              "      <th>density</th>\n",
              "      <th>pH</th>\n",
              "      <th>sulphates</th>\n",
              "      <th>alcohol</th>\n",
              "      <th>quality</th>\n",
              "    </tr>\n",
              "  </thead>\n",
              "  <tbody>\n",
              "    <tr>\n",
              "      <th>0</th>\n",
              "      <td>7.4</td>\n",
              "      <td>0.700</td>\n",
              "      <td>0.00</td>\n",
              "      <td>1.9</td>\n",
              "      <td>0.076</td>\n",
              "      <td>11.0</td>\n",
              "      <td>34.0</td>\n",
              "      <td>0.99780</td>\n",
              "      <td>3.51</td>\n",
              "      <td>0.56</td>\n",
              "      <td>9.4</td>\n",
              "      <td>5</td>\n",
              "    </tr>\n",
              "    <tr>\n",
              "      <th>1</th>\n",
              "      <td>7.8</td>\n",
              "      <td>0.880</td>\n",
              "      <td>0.00</td>\n",
              "      <td>2.6</td>\n",
              "      <td>0.098</td>\n",
              "      <td>25.0</td>\n",
              "      <td>67.0</td>\n",
              "      <td>0.99680</td>\n",
              "      <td>3.20</td>\n",
              "      <td>0.68</td>\n",
              "      <td>9.8</td>\n",
              "      <td>5</td>\n",
              "    </tr>\n",
              "    <tr>\n",
              "      <th>2</th>\n",
              "      <td>7.8</td>\n",
              "      <td>0.760</td>\n",
              "      <td>0.04</td>\n",
              "      <td>2.3</td>\n",
              "      <td>0.092</td>\n",
              "      <td>15.0</td>\n",
              "      <td>54.0</td>\n",
              "      <td>0.99700</td>\n",
              "      <td>3.26</td>\n",
              "      <td>0.65</td>\n",
              "      <td>9.8</td>\n",
              "      <td>5</td>\n",
              "    </tr>\n",
              "    <tr>\n",
              "      <th>3</th>\n",
              "      <td>11.2</td>\n",
              "      <td>0.280</td>\n",
              "      <td>0.56</td>\n",
              "      <td>1.9</td>\n",
              "      <td>0.075</td>\n",
              "      <td>17.0</td>\n",
              "      <td>60.0</td>\n",
              "      <td>0.99800</td>\n",
              "      <td>3.16</td>\n",
              "      <td>0.58</td>\n",
              "      <td>9.8</td>\n",
              "      <td>6</td>\n",
              "    </tr>\n",
              "    <tr>\n",
              "      <th>4</th>\n",
              "      <td>7.4</td>\n",
              "      <td>0.700</td>\n",
              "      <td>0.00</td>\n",
              "      <td>1.9</td>\n",
              "      <td>0.076</td>\n",
              "      <td>11.0</td>\n",
              "      <td>34.0</td>\n",
              "      <td>0.99780</td>\n",
              "      <td>3.51</td>\n",
              "      <td>0.56</td>\n",
              "      <td>9.4</td>\n",
              "      <td>5</td>\n",
              "    </tr>\n",
              "    <tr>\n",
              "      <th>...</th>\n",
              "      <td>...</td>\n",
              "      <td>...</td>\n",
              "      <td>...</td>\n",
              "      <td>...</td>\n",
              "      <td>...</td>\n",
              "      <td>...</td>\n",
              "      <td>...</td>\n",
              "      <td>...</td>\n",
              "      <td>...</td>\n",
              "      <td>...</td>\n",
              "      <td>...</td>\n",
              "      <td>...</td>\n",
              "    </tr>\n",
              "    <tr>\n",
              "      <th>1594</th>\n",
              "      <td>6.2</td>\n",
              "      <td>0.600</td>\n",
              "      <td>0.08</td>\n",
              "      <td>2.0</td>\n",
              "      <td>0.090</td>\n",
              "      <td>32.0</td>\n",
              "      <td>44.0</td>\n",
              "      <td>0.99490</td>\n",
              "      <td>3.45</td>\n",
              "      <td>0.58</td>\n",
              "      <td>10.5</td>\n",
              "      <td>5</td>\n",
              "    </tr>\n",
              "    <tr>\n",
              "      <th>1595</th>\n",
              "      <td>5.9</td>\n",
              "      <td>0.550</td>\n",
              "      <td>0.10</td>\n",
              "      <td>2.2</td>\n",
              "      <td>0.062</td>\n",
              "      <td>39.0</td>\n",
              "      <td>51.0</td>\n",
              "      <td>0.99512</td>\n",
              "      <td>3.52</td>\n",
              "      <td>0.76</td>\n",
              "      <td>11.2</td>\n",
              "      <td>6</td>\n",
              "    </tr>\n",
              "    <tr>\n",
              "      <th>1596</th>\n",
              "      <td>6.3</td>\n",
              "      <td>0.510</td>\n",
              "      <td>0.13</td>\n",
              "      <td>2.3</td>\n",
              "      <td>0.076</td>\n",
              "      <td>29.0</td>\n",
              "      <td>40.0</td>\n",
              "      <td>0.99574</td>\n",
              "      <td>3.42</td>\n",
              "      <td>0.75</td>\n",
              "      <td>11.0</td>\n",
              "      <td>6</td>\n",
              "    </tr>\n",
              "    <tr>\n",
              "      <th>1597</th>\n",
              "      <td>5.9</td>\n",
              "      <td>0.645</td>\n",
              "      <td>0.12</td>\n",
              "      <td>2.0</td>\n",
              "      <td>0.075</td>\n",
              "      <td>32.0</td>\n",
              "      <td>44.0</td>\n",
              "      <td>0.99547</td>\n",
              "      <td>3.57</td>\n",
              "      <td>0.71</td>\n",
              "      <td>10.2</td>\n",
              "      <td>5</td>\n",
              "    </tr>\n",
              "    <tr>\n",
              "      <th>1598</th>\n",
              "      <td>6.0</td>\n",
              "      <td>0.310</td>\n",
              "      <td>0.47</td>\n",
              "      <td>3.6</td>\n",
              "      <td>0.067</td>\n",
              "      <td>18.0</td>\n",
              "      <td>42.0</td>\n",
              "      <td>0.99549</td>\n",
              "      <td>3.39</td>\n",
              "      <td>0.66</td>\n",
              "      <td>11.0</td>\n",
              "      <td>6</td>\n",
              "    </tr>\n",
              "  </tbody>\n",
              "</table>\n",
              "<p>1599 rows × 12 columns</p>\n",
              "</div>"
            ],
            "text/plain": [
              "      fixed acidity  volatile acidity  citric acid  ...  sulphates  alcohol  quality\n",
              "0               7.4             0.700         0.00  ...       0.56      9.4        5\n",
              "1               7.8             0.880         0.00  ...       0.68      9.8        5\n",
              "2               7.8             0.760         0.04  ...       0.65      9.8        5\n",
              "3              11.2             0.280         0.56  ...       0.58      9.8        6\n",
              "4               7.4             0.700         0.00  ...       0.56      9.4        5\n",
              "...             ...               ...          ...  ...        ...      ...      ...\n",
              "1594            6.2             0.600         0.08  ...       0.58     10.5        5\n",
              "1595            5.9             0.550         0.10  ...       0.76     11.2        6\n",
              "1596            6.3             0.510         0.13  ...       0.75     11.0        6\n",
              "1597            5.9             0.645         0.12  ...       0.71     10.2        5\n",
              "1598            6.0             0.310         0.47  ...       0.66     11.0        6\n",
              "\n",
              "[1599 rows x 12 columns]"
            ]
          },
          "metadata": {
            "tags": []
          },
          "execution_count": 3
        }
      ]
    },
    {
      "cell_type": "code",
      "metadata": {
        "colab": {
          "base_uri": "https://localhost:8080/",
          "height": 296
        },
        "id": "g0xOTajt5rfd",
        "outputId": "d3c0bd18-b19f-4aa2-ef2f-671fb05f10cc"
      },
      "source": [
        "sns.countplot(x=\"quality\",data=data)"
      ],
      "execution_count": 4,
      "outputs": [
        {
          "output_type": "execute_result",
          "data": {
            "text/plain": [
              "<matplotlib.axes._subplots.AxesSubplot at 0x7f03cb09b828>"
            ]
          },
          "metadata": {
            "tags": []
          },
          "execution_count": 4
        },
        {
          "output_type": "display_data",
          "data": {
            "image/png": "[encoded data removed]",
            "text/plain": [
              "<Figure size 432x288 with 1 Axes>"
            ]
          },
          "metadata": {
            "tags": [],
            "needs_background": "light"
          }
        }
      ]
    },
    {
      "cell_type": "code",
      "metadata": {
        "id": "maff5jfu-njm"
      },
      "source": [
        "#we separate our data\r\n",
        "x = data.iloc[:,:-1]\r\n",
        "y = data.iloc[:,-1]"
      ],
      "execution_count": 5,
      "outputs": []
    },
    {
      "cell_type": "code",
      "metadata": {
        "colab": {
          "base_uri": "https://localhost:8080/",
          "height": 216
        },
        "id": "XmN4GX5a-9Kx",
        "outputId": "846f0bc9-3d61-4882-97fe-6ce3b0b6107f"
      },
      "source": [
        "x.head()"
      ],
      "execution_count": 6,
      "outputs": [
        {
          "output_type": "execute_result",
          "data": {
            "text/html": [
              "<div>\n",
              "<style scoped>\n",
              "    .dataframe tbody tr th:only-of-type {\n",
              "        vertical-align: middle;\n",
              "    }\n",
              "\n",
              "    .dataframe tbody tr th {\n",
              "        vertical-align: top;\n",
              "    }\n",
              "\n",
              "    .dataframe thead th {\n",
              "        text-align: right;\n",
              "    }\n",
              "</style>\n",
              "<table border=\"1\" class=\"dataframe\">\n",
              "  <thead>\n",
              "    <tr style=\"text-align: right;\">\n",
              "      <th></th>\n",
              "      <th>fixed acidity</th>\n",
              "      <th>volatile acidity</th>\n",
              "      <th>citric acid</th>\n",
              "      <th>residual sugar</th>\n",
              "      <th>chlorides</th>\n",
              "      <th>free sulfur dioxide</th>\n",
              "      <th>total sulfur dioxide</th>\n",
              "      <th>density</th>\n",
              "      <th>pH</th>\n",
              "      <th>sulphates</th>\n",
              "      <th>alcohol</th>\n",
              "    </tr>\n",
              "  </thead>\n",
              "  <tbody>\n",
              "    <tr>\n",
              "      <th>0</th>\n",
              "      <td>7.4</td>\n",
              "      <td>0.70</td>\n",
              "      <td>0.00</td>\n",
              "      <td>1.9</td>\n",
              "      <td>0.076</td>\n",
              "      <td>11.0</td>\n",
              "      <td>34.0</td>\n",
              "      <td>0.9978</td>\n",
              "      <td>3.51</td>\n",
              "      <td>0.56</td>\n",
              "      <td>9.4</td>\n",
              "    </tr>\n",
              "    <tr>\n",
              "      <th>1</th>\n",
              "      <td>7.8</td>\n",
              "      <td>0.88</td>\n",
              "      <td>0.00</td>\n",
              "      <td>2.6</td>\n",
              "      <td>0.098</td>\n",
              "      <td>25.0</td>\n",
              "      <td>67.0</td>\n",
              "      <td>0.9968</td>\n",
              "      <td>3.20</td>\n",
              "      <td>0.68</td>\n",
              "      <td>9.8</td>\n",
              "    </tr>\n",
              "    <tr>\n",
              "      <th>2</th>\n",
              "      <td>7.8</td>\n",
              "      <td>0.76</td>\n",
              "      <td>0.04</td>\n",
              "      <td>2.3</td>\n",
              "      <td>0.092</td>\n",
              "      <td>15.0</td>\n",
              "      <td>54.0</td>\n",
              "      <td>0.9970</td>\n",
              "      <td>3.26</td>\n",
              "      <td>0.65</td>\n",
              "      <td>9.8</td>\n",
              "    </tr>\n",
              "    <tr>\n",
              "      <th>3</th>\n",
              "      <td>11.2</td>\n",
              "      <td>0.28</td>\n",
              "      <td>0.56</td>\n",
              "      <td>1.9</td>\n",
              "      <td>0.075</td>\n",
              "      <td>17.0</td>\n",
              "      <td>60.0</td>\n",
              "      <td>0.9980</td>\n",
              "      <td>3.16</td>\n",
              "      <td>0.58</td>\n",
              "      <td>9.8</td>\n",
              "    </tr>\n",
              "    <tr>\n",
              "      <th>4</th>\n",
              "      <td>7.4</td>\n",
              "      <td>0.70</td>\n",
              "      <td>0.00</td>\n",
              "      <td>1.9</td>\n",
              "      <td>0.076</td>\n",
              "      <td>11.0</td>\n",
              "      <td>34.0</td>\n",
              "      <td>0.9978</td>\n",
              "      <td>3.51</td>\n",
              "      <td>0.56</td>\n",
              "      <td>9.4</td>\n",
              "    </tr>\n",
              "  </tbody>\n",
              "</table>\n",
              "</div>"
            ],
            "text/plain": [
              "   fixed acidity  volatile acidity  citric acid  ...    pH  sulphates  alcohol\n",
              "0            7.4              0.70         0.00  ...  3.51       0.56      9.4\n",
              "1            7.8              0.88         0.00  ...  3.20       0.68      9.8\n",
              "2            7.8              0.76         0.04  ...  3.26       0.65      9.8\n",
              "3           11.2              0.28         0.56  ...  3.16       0.58      9.8\n",
              "4            7.4              0.70         0.00  ...  3.51       0.56      9.4\n",
              "\n",
              "[5 rows x 11 columns]"
            ]
          },
          "metadata": {
            "tags": []
          },
          "execution_count": 6
        }
      ]
    },
    {
      "cell_type": "code",
      "metadata": {
        "colab": {
          "base_uri": "https://localhost:8080/"
        },
        "id": "KWaQOPVX_ffT",
        "outputId": "9450a9b0-c108-4ffa-bffd-b81bb42e9386"
      },
      "source": [
        "y.head()"
      ],
      "execution_count": 7,
      "outputs": [
        {
          "output_type": "execute_result",
          "data": {
            "text/plain": [
              "0    5\n",
              "1    5\n",
              "2    5\n",
              "3    6\n",
              "4    5\n",
              "Name: quality, dtype: int64"
            ]
          },
          "metadata": {
            "tags": []
          },
          "execution_count": 7
        }
      ]
    },
    {
      "cell_type": "code",
      "metadata": {
        "id": "iCury9Vq_h5v"
      },
      "source": [
        "#split into (train and val ) and test data\r\n",
        "x_trainval, x_test, y_trainval, y_test = train_test_split(x,y,test_size=0.2,stratify=y,random_state=69)\r\n",
        "\r\n",
        "#split into train and validation set\r\n",
        "x_train, x_val, y_train ,y_val = train_test_split(x_trainval,y_trainval,test_size=0.1,stratify=y_trainval,random_state=21)"
      ],
      "execution_count": 8,
      "outputs": []
    },
    {
      "cell_type": "code",
      "metadata": {
        "id": "FrFu_gsqIQcZ"
      },
      "source": [
        "#we need to normlize the inputs\r\n",
        "scaler = MinMaxScaler()\r\n",
        "\r\n",
        "x_train = scaler.fit_transform(x_train)\r\n",
        "x_val = scaler.transform(x_val)\r\n",
        "x_test = scaler.transform(x_test)\r\n",
        "\r\n",
        "#we transform the data to np arrays\r\n",
        "x_train,y_train = np.array(x_train), np.array(y_train)\r\n",
        "x_val, y_val = np.array(x_val), np.array(y_val)\r\n",
        "x_test, y_test = np.array(x_test), np.array(y_test)"
      ],
      "execution_count": 9,
      "outputs": []
    },
    {
      "cell_type": "code",
      "metadata": {
        "id": "zICE6zcOIRr6"
      },
      "source": [
        "#we create a function that will give us the class distibution\r\n",
        "def get_class_distribution(obj):\r\n",
        "    count_dict = {\r\n",
        "        \"rating_3\": 0,\r\n",
        "        \"rating_4\": 0,\r\n",
        "        \"rating_5\": 0,\r\n",
        "        \"rating_6\": 0,\r\n",
        "        \"rating_7\": 0,\r\n",
        "        \"rating_8\": 0,\r\n",
        "    }\r\n",
        "    \r\n",
        "    for i in obj:\r\n",
        "        if i == 3: \r\n",
        "            count_dict['rating_3'] += 1\r\n",
        "        elif i == 4: \r\n",
        "            count_dict['rating_4'] += 1\r\n",
        "        elif i == 5: \r\n",
        "            count_dict['rating_5'] += 1\r\n",
        "        elif i == 6: \r\n",
        "            count_dict['rating_6'] += 1\r\n",
        "        elif i == 7: \r\n",
        "            count_dict['rating_7'] += 1  \r\n",
        "        elif i == 8: \r\n",
        "            count_dict['rating_8'] += 1              \r\n",
        "        else:\r\n",
        "            print(\"Check classes.\")\r\n",
        "            \r\n",
        "    return count_dict"
      ],
      "execution_count": 10,
      "outputs": []
    },
    {
      "cell_type": "code",
      "metadata": {
        "colab": {
          "base_uri": "https://localhost:8080/",
          "height": 372
        },
        "id": "luS2ICEhJvOV",
        "outputId": "d73947fe-eaff-49e6-e9bc-9a210dbbc29c"
      },
      "source": [
        "fig, axes = plt.subplots(nrows=1, ncols=3, figsize=(25,7))\r\n",
        "# Train\r\n",
        "sns.barplot(data = pd.DataFrame.from_dict([get_class_distribution(y_train)]).melt(), x = \"variable\", y=\"value\", hue=\"variable\",  ax=axes[0]).set_title('Class Distribution in Train Set')\r\n",
        "# Val\r\n",
        "sns.barplot(data = pd.DataFrame.from_dict([get_class_distribution(y_val)]).melt(), x = \"variable\", y=\"value\", hue=\"variable\",  ax=axes[1]).set_title('Class Distribution in Val Set')\r\n",
        "# Test\r\n",
        "sns.barplot(data = pd.DataFrame.from_dict([get_class_distribution(y_test)]).melt(), x = \"variable\", y=\"value\", hue=\"variable\",  ax=axes[2]).set_title('Class Distribution in Test Set')"
      ],
      "execution_count": 11,
      "outputs": [
        {
          "output_type": "execute_result",
          "data": {
            "text/plain": [
              "Text(0.5, 1.0, 'Class Distribution in Test Set')"
            ]
          },
          "metadata": {
            "tags": []
          },
          "execution_count": 11
        },
        {
          "output_type": "display_data",
          "data": {
            "image/png": "[encoded data removed]",
            "text/plain": [
              "<Figure size 1800x504 with 3 Axes>"
            ]
          },
          "metadata": {
            "tags": [],
            "needs_background": "light"
          }
        }
      ]
    },
    {
      "cell_type": "code",
      "metadata": {
        "id": "q7XqXecaKX8z"
      },
      "source": [
        "#we convert the outputs to float\r\n",
        "y_train, y_test, y_val = y_train.astype(float), y_test.astype(float), y_val.astype(float)"
      ],
      "execution_count": 12,
      "outputs": []
    },
    {
      "cell_type": "code",
      "metadata": {
        "id": "pmIc4SpFMdN-"
      },
      "source": [
        "#we create the class for the dataset\r\n",
        "class RegressionDataset(Dataset):\r\n",
        "  def __init__(self,x_data,y_data):\r\n",
        "    self.x_data = x_data\r\n",
        "    self.y_data = y_data\r\n",
        "\r\n",
        "  def __getitem__(self,index):\r\n",
        "    return self.x_data[index], self.y_data[index]\r\n",
        "\r\n",
        "  def __len__(self):\r\n",
        "    return len(self.x_data)"
      ],
      "execution_count": 13,
      "outputs": []
    },
    {
      "cell_type": "code",
      "metadata": {
        "id": "0ltvjUrYaB4K"
      },
      "source": [
        "#we create the training dataset\r\n",
        "train_dataset = RegressionDataset(torch.from_numpy(x_train).float(), torch.from_numpy(y_train).float())"
      ],
      "execution_count": 14,
      "outputs": []
    },
    {
      "cell_type": "code",
      "metadata": {
        "id": "CYW4apUZanK0"
      },
      "source": [
        "#we create the validation dataset\r\n",
        "val_dataset = RegressionDataset(torch.from_numpy(x_val).float(), torch.from_numpy(y_val).float())"
      ],
      "execution_count": 15,
      "outputs": []
    },
    {
      "cell_type": "code",
      "metadata": {
        "id": "izvnOBt6arsj"
      },
      "source": [
        "#we create the test dataset\r\n",
        "test_dataset = RegressionDataset(torch.from_numpy(x_test).float(), torch.from_numpy(y_test).float())"
      ],
      "execution_count": 16,
      "outputs": []
    },
    {
      "cell_type": "code",
      "metadata": {
        "id": "vXobXk-gbzq0"
      },
      "source": [
        "#we define the model params\r\n",
        "EPOCHS = 150\r\n",
        "BATCH_SIZE = 64\r\n",
        "LEARNING_RATE = 0.001\r\n",
        "\r\n",
        "NUM_FEATURES = len(x.columns)"
      ],
      "execution_count": 17,
      "outputs": []
    },
    {
      "cell_type": "code",
      "metadata": {
        "id": "mOoCzyPGcG9X"
      },
      "source": [
        "#we initialize the dataloader\r\n",
        "train_loader = DataLoader(train_dataset,batch_size=BATCH_SIZE,shuffle=True)\r\n",
        "val_loader = DataLoader(val_dataset,batch_size=1)\r\n",
        "test_loader = DataLoader(test_dataset,batch_size=1)"
      ],
      "execution_count": 18,
      "outputs": []
    },
    {
      "cell_type": "code",
      "metadata": {
        "id": "ABzGHJFacK0r"
      },
      "source": [
        "#we create out neural network\r\n",
        "class RegressionModel(nn.Module):\r\n",
        "  def __init__(self,num_features):\r\n",
        "    super(RegressionModel,self).__init__()\r\n",
        "\r\n",
        "    self.layer_1 = nn.Linear(num_features,16)\r\n",
        "    self.layer_2 = nn.Linear(16,32)\r\n",
        "    self.layer_3 = nn.Linear(32,16)\r\n",
        "    self.layer_out = nn.Linear(16,1)\r\n",
        "\r\n",
        "    self.relu = nn.ReLU()\r\n",
        "\r\n",
        "  def forward(self,inputs):\r\n",
        "    x = self.relu(self.layer_1(inputs))\r\n",
        "    x = self.relu(self.layer_2(x))\r\n",
        "    x = self.relu(self.layer_3(x))\r\n",
        "    x = self.layer_out(x)\r\n",
        "\r\n",
        "    return x\r\n",
        "\r\n",
        "  def predict(self,test_inputs):\r\n",
        "    x = self.relu(self.layer_1(test_inputs))\r\n",
        "    x = self.relu(self.layer_2(x))\r\n",
        "    x = self.relu(self.layer_3(x))\r\n",
        "    x = self.layer_out(x)\r\n",
        "\r\n",
        "    return x\r\n",
        "\r\n"
      ],
      "execution_count": 19,
      "outputs": []
    },
    {
      "cell_type": "code",
      "metadata": {
        "id": "3k2eZ_WUeRzs"
      },
      "source": [
        "#we initialize our model, optimizer and our loss function\r\n",
        "model = RegressionModel(NUM_FEATURES)\r\n",
        "\r\n",
        "cretirion = nn.MSELoss()\r\n",
        "optimizer = optim.Adam(model.parameters(), lr = LEARNING_RATE)"
      ],
      "execution_count": 20,
      "outputs": []
    },
    {
      "cell_type": "code",
      "metadata": {
        "id": "3AhKfbDPepRJ"
      },
      "source": [
        "#we create a dictionary where we will store the loss stats for each epoch for training and validation\r\n",
        "loss_stats = {\r\n",
        "    \"train\" : [],\r\n",
        "    \"val\":[]\r\n",
        "}"
      ],
      "execution_count": 21,
      "outputs": []
    },
    {
      "cell_type": "code",
      "metadata": {
        "colab": {
          "base_uri": "https://localhost:8080/",
          "height": 1000,
          "referenced_widgets": [
            "fa2bd8af886f46cb8828b87c5e163f67",
            "f2cfeb8f293440a5997043a2502b2e47",
            "f8c0695b55a243b4a92a3b5e8520c592",
            "041418937ef14308b4576915f8b87c01",
            "afb2255d788c4049bbec4beb375a4958",
            "3b88ab77d46b46aea8fe621c12a80835",
            "09a32504d2f049bd9f9e082e38f44a4c",
            "ac55d9fde4054645b83d34c0099bef2e"
          ]
        },
        "id": "tUn0rO7qfa6W",
        "outputId": "908af5f6-dfc3-4073-fc40-75a40fa6df36"
      },
      "source": [
        "#we train our model\r\n",
        "print(\"Begin training!\")\r\n",
        "\r\n",
        "for e in tqdm(range(1,EPOCHS)):\r\n",
        "  #TRAINING\r\n",
        "  train_epoch_loss = 0\r\n",
        "  model.train()\r\n",
        "  #we eterate in each batch for our train_loader\r\n",
        "  for x_train_batch,y_train_batch in train_loader:\r\n",
        "    optimizer.zero_grad()\r\n",
        "    y_train_pred = model(x_train_batch)\r\n",
        "\r\n",
        "    train_loss = cretirion(y_train_pred, y_train_batch.unsqueeze(1))\r\n",
        "    \r\n",
        "    train_loss.backward()\r\n",
        "    optimizer.step()\r\n",
        "    train_epoch_loss += train_loss.item()\r\n",
        "  \r\n",
        "  #VALIDATION\r\n",
        "  with torch.no_grad():\r\n",
        "    val_epoch_loss = 0\r\n",
        "    model.eval()\r\n",
        "    #we eterate on each item of the validation dataset\r\n",
        "    for x_val_batch, y_val_batch in val_loader:\r\n",
        "      y_val_pred = model(x_val_batch)\r\n",
        "\r\n",
        "      val_loss = cretirion(y_val_pred, y_val_batch.unsqueeze(1))\r\n",
        "\r\n",
        "      val_epoch_loss += val_loss.item()\r\n",
        "  \r\n",
        "  loss_stats[\"train\"].append(train_epoch_loss / len(train_loader))\r\n",
        "  loss_stats[\"val\"].append(val_epoch_loss / len(val_loader))\r\n",
        "\r\n",
        "  print(f' For epoch {e} : Train loss = {train_epoch_loss / len(train_loader)}  and Val loss = {val_epoch_loss / len(val_loader)}')\r\n",
        "    "
      ],
      "execution_count": 22,
      "outputs": [
        {
          "output_type": "stream",
          "text": [
            "Begin training!\n"
          ],
          "name": "stdout"
        },
        {
          "output_type": "display_data",
          "data": {
            "application/vnd.jupyter.widget-view+json": {
              "model_id": "fa2bd8af886f46cb8828b87c5e163f67",
              "version_minor": 0,
              "version_major": 2
            },
            "text/plain": [
              "HBox(children=(FloatProgress(value=0.0, max=149.0), HTML(value='')))"
            ]
          },
          "metadata": {
            "tags": []
          }
        },
        {
          "output_type": "stream",
          "text": [
            " For epoch 1 : Train loss = 31.40135341220432  and Val loss = 30.474416188895702\n",
            " For epoch 2 : Train loss = 29.82938861846924  and Val loss = 28.600255448371172\n",
            " For epoch 3 : Train loss = 27.30700757768419  and Val loss = 25.08643878251314\n",
            " For epoch 4 : Train loss = 22.232950952317978  and Val loss = 17.82504483126104\n",
            " For epoch 5 : Train loss = 12.686496363745796  and Val loss = 6.275826974015217\n",
            " For epoch 6 : Train loss = 2.6189860304196677  and Val loss = 0.919801529468657\n",
            " For epoch 7 : Train loss = 0.9971262481477525  and Val loss = 0.9407330104589846\n",
            " For epoch 8 : Train loss = 0.7780591001113256  and Val loss = 0.8430836839729423\n",
            " For epoch 9 : Train loss = 0.7720068759388394  and Val loss = 0.8231046641799367\n",
            " For epoch 10 : Train loss = 0.7482034663359324  and Val loss = 0.8067835003598702\n",
            " For epoch 11 : Train loss = 0.7358065942923228  and Val loss = 0.7868855639521826\n",
            " For epoch 12 : Train loss = 0.7242086264822218  and Val loss = 0.7730843017279767\n",
            " For epoch 13 : Train loss = 0.7110808591047922  and Val loss = 0.7553300433937693\n",
            " For epoch 14 : Train loss = 0.6988649335172441  and Val loss = 0.740148368502787\n",
            " For epoch 15 : Train loss = 0.6857935769690408  and Val loss = 0.7217729899966798\n",
            " For epoch 16 : Train loss = 0.6743887464205424  and Val loss = 0.7073405207798942\n",
            " For epoch 17 : Train loss = 0.6633504894044664  and Val loss = 0.6906678853359836\n",
            " For epoch 18 : Train loss = 0.651223384671741  and Val loss = 0.6854436384704741\n",
            " For epoch 19 : Train loss = 0.6407464096943537  and Val loss = 0.6637508108944985\n",
            " For epoch 20 : Train loss = 0.630594026711252  and Val loss = 0.6504160511116481\n",
            " For epoch 21 : Train loss = 0.6247617287768258  and Val loss = 0.6390218427960068\n",
            " For epoch 22 : Train loss = 0.61127327548133  and Val loss = 0.6229792506773038\n",
            " For epoch 23 : Train loss = 0.602982877029313  and Val loss = 0.6136181056988121\n",
            " For epoch 24 : Train loss = 0.5946212477154202  and Val loss = 0.5999740488605951\n",
            " For epoch 25 : Train loss = 0.586695005496343  and Val loss = 0.5903433049446676\n",
            " For epoch 26 : Train loss = 0.5800486471917894  and Val loss = 0.580619287839454\n",
            " For epoch 27 : Train loss = 0.5708785851796468  and Val loss = 0.5680666080260437\n",
            " For epoch 28 : Train loss = 0.5644304818577237  and Val loss = 0.5600359428331103\n",
            " For epoch 29 : Train loss = 0.5585332645310296  and Val loss = 0.5511406710711526\n",
            " For epoch 30 : Train loss = 0.5568508406480154  and Val loss = 0.5515394711076169\n",
            " For epoch 31 : Train loss = 0.5480881449249055  and Val loss = 0.5339362005799444\n",
            " For epoch 32 : Train loss = 0.541979291372829  and Val loss = 0.5291570681786268\n",
            " For epoch 33 : Train loss = 0.5364203304052353  and Val loss = 0.5228162568328703\n",
            " For epoch 34 : Train loss = 0.532346131073104  and Val loss = 0.5144594926582773\n",
            " For epoch 35 : Train loss = 0.5291986581352022  and Val loss = 0.5097984810449816\n",
            " For epoch 36 : Train loss = 0.5233457899755902  and Val loss = 0.501581849642804\n",
            " For epoch 37 : Train loss = 0.5219073990980784  and Val loss = 0.5002360238977417\n",
            " For epoch 38 : Train loss = 0.5161631355683008  and Val loss = 0.493820836882378\n",
            " For epoch 39 : Train loss = 0.51416943470637  and Val loss = 0.48740661707134336\n",
            " For epoch 40 : Train loss = 0.511050745844841  and Val loss = 0.48596159892991864\n",
            " For epoch 41 : Train loss = 0.5077126175165176  and Val loss = 0.4834048698538709\n",
            " For epoch 42 : Train loss = 0.5052816188997693  and Val loss = 0.4757336495434643\n",
            " For epoch 43 : Train loss = 0.5055348922808965  and Val loss = 0.48345433891904577\n",
            " For epoch 44 : Train loss = 0.5021045191420449  and Val loss = 0.4706204191435859\n",
            " For epoch 45 : Train loss = 0.4973427752653758  and Val loss = 0.47220867675946643\n",
            " For epoch 46 : Train loss = 0.4973012904326121  and Val loss = 0.46440911193624856\n",
            " For epoch 47 : Train loss = 0.4929915616909663  and Val loss = 0.46866809284267674\n",
            " For epoch 48 : Train loss = 0.49545959300465053  and Val loss = 0.4632186131908682\n",
            " For epoch 49 : Train loss = 0.4899023522933324  and Val loss = 0.4571002569965117\n",
            " For epoch 50 : Train loss = 0.4913582917716768  and Val loss = 0.4688256503868047\n",
            " For epoch 51 : Train loss = 0.48781000243292916  and Val loss = 0.45264503074298545\n",
            " For epoch 52 : Train loss = 0.4852952029969957  and Val loss = 0.4529393229342702\n",
            " For epoch 53 : Train loss = 0.48314571877320606  and Val loss = 0.4507686951948262\n",
            " For epoch 54 : Train loss = 0.48160915573438007  and Val loss = 0.4489623487125485\n",
            " For epoch 55 : Train loss = 0.48077501522170174  and Val loss = 0.44748722345097924\n",
            " For epoch 56 : Train loss = 0.4786316239171558  and Val loss = 0.4464321026891298\n",
            " For epoch 57 : Train loss = 0.47796502709388733  and Val loss = 0.4493336505743244\n",
            " For epoch 58 : Train loss = 0.4781780226363076  and Val loss = 0.4415009319288288\n",
            " For epoch 59 : Train loss = 0.4764561239216063  and Val loss = 0.44035411296466265\n",
            " For epoch 60 : Train loss = 0.47819984290334916  and Val loss = 0.44304268020664495\n",
            " For epoch 61 : Train loss = 0.47432443333996666  and Val loss = 0.4478337580422931\n",
            " For epoch 62 : Train loss = 0.4724486172199249  and Val loss = 0.4357441081933757\n",
            " For epoch 63 : Train loss = 0.4701331903537114  and Val loss = 0.4394372044614556\n",
            " For epoch 64 : Train loss = 0.46953343351682025  and Val loss = 0.4334386799213803\n",
            " For epoch 65 : Train loss = 0.4658541397915946  and Val loss = 0.44069765059307997\n",
            " For epoch 66 : Train loss = 0.4676822821299235  and Val loss = 0.43094002367649864\n",
            " For epoch 67 : Train loss = 0.46446888314353096  and Val loss = 0.43239751365103984\n",
            " For epoch 68 : Train loss = 0.46642500989966923  and Val loss = 0.4288477163734399\n",
            " For epoch 69 : Train loss = 0.46500491930378807  and Val loss = 0.42719932814907224\n",
            " For epoch 70 : Train loss = 0.46097075442473096  and Val loss = 0.42972640304122933\n",
            " For epoch 71 : Train loss = 0.46102022131284076  and Val loss = 0.4296415919197898\n",
            " For epoch 72 : Train loss = 0.46119388772381675  and Val loss = 0.42873457041463325\n",
            " For epoch 73 : Train loss = 0.45868852734565735  and Val loss = 0.42716059087089775\n",
            " For epoch 74 : Train loss = 0.4575727995898988  and Val loss = 0.42264364891394735\n",
            " For epoch 75 : Train loss = 0.45677635570367175  and Val loss = 0.4269712454170076\n",
            " For epoch 76 : Train loss = 0.45539799001481795  and Val loss = 0.4225298585056976\n",
            " For epoch 77 : Train loss = 0.4553515911102295  and Val loss = 0.4202034795613372\n",
            " For epoch 78 : Train loss = 0.45617737869421643  and Val loss = 0.4180404899161161\n",
            " For epoch 79 : Train loss = 0.45304911583662033  and Val loss = 0.4191798866244767\n",
            " For epoch 80 : Train loss = 0.45200563139385647  and Val loss = 0.4224015953343496\n",
            " For epoch 81 : Train loss = 0.4503931750853856  and Val loss = 0.41554097358282327\n",
            " For epoch 82 : Train loss = 0.4518284963236915  and Val loss = 0.41745484330550653\n",
            " For epoch 83 : Train loss = 0.4525706229938401  and Val loss = 0.41337976589511527\n",
            " For epoch 84 : Train loss = 0.44822703798611957  and Val loss = 0.4126307517779608\n",
            " For epoch 85 : Train loss = 0.4467102222972446  and Val loss = 0.4147979501236705\n",
            " For epoch 86 : Train loss = 0.448841811882125  and Val loss = 0.41397020470687274\n",
            " For epoch 87 : Train loss = 0.4493481020132701  and Val loss = 0.41229545139553814\n",
            " For epoch 88 : Train loss = 0.44667737351523507  and Val loss = 0.4320087837083406\n",
            " For epoch 89 : Train loss = 0.45221379068162704  and Val loss = 0.40869141238636075\n",
            " For epoch 90 : Train loss = 0.4451252586311764  and Val loss = 0.41064487681617834\n",
            " For epoch 91 : Train loss = 0.4522753738694721  and Val loss = 0.40712739041831014\n",
            " For epoch 92 : Train loss = 0.4471720771657096  and Val loss = 0.4073386994934083\n",
            " For epoch 93 : Train loss = 0.4424949155913459  and Val loss = 0.4059248429790774\n",
            " For epoch 94 : Train loss = 0.4408433222108417  and Val loss = 0.4134434380592893\n",
            " For epoch 95 : Train loss = 0.4431237777074178  and Val loss = 0.4037757511293947\n",
            " For epoch 96 : Train loss = 0.44031309501992333  and Val loss = 0.411074731033068\n",
            " For epoch 97 : Train loss = 0.4382365379068587  and Val loss = 0.404178037867041\n",
            " For epoch 98 : Train loss = 0.4399864309363895  and Val loss = 0.40378652828055017\n",
            " For epoch 99 : Train loss = 0.4387289848592546  and Val loss = 0.41308301042772655\n",
            " For epoch 100 : Train loss = 0.4379219909509023  and Val loss = 0.3999804956454227\n",
            " For epoch 101 : Train loss = 0.43887919353114235  and Val loss = 0.3995951605861592\n",
            " For epoch 102 : Train loss = 0.4373917993572023  and Val loss = 0.39785378540182137\n",
            " For epoch 103 : Train loss = 0.43513232635127175  and Val loss = 0.40042100959412075\n",
            " For epoch 104 : Train loss = 0.43562938769658405  and Val loss = 0.40616067731781413\n",
            " For epoch 105 : Train loss = 0.43749434252580005  and Val loss = 0.39951287690912096\n",
            " For epoch 106 : Train loss = 0.43659964203834534  and Val loss = 0.39845625903188164\n",
            " For epoch 107 : Train loss = 0.4344728042682012  and Val loss = 0.40947663818320734\n",
            " For epoch 108 : Train loss = 0.43552305301030475  and Val loss = 0.39542087735173936\n",
            " For epoch 109 : Train loss = 0.43365415930747986  and Val loss = 0.3995397878034339\n",
            " For epoch 110 : Train loss = 0.43360722810029984  and Val loss = 0.39462216030960917\n",
            " For epoch 111 : Train loss = 0.4393627295891444  and Val loss = 0.39455330225951\n",
            " For epoch 112 : Train loss = 0.43294228778945076  and Val loss = 0.40200390970130684\n",
            " For epoch 113 : Train loss = 0.43458518220318687  and Val loss = 0.39323586937030086\n",
            " For epoch 114 : Train loss = 0.43159234192636275  and Val loss = 0.3929925621168877\n",
            " For epoch 115 : Train loss = 0.4336516393555535  and Val loss = 0.4025274397449792\n",
            " For epoch 116 : Train loss = 0.4392159779866536  and Val loss = 0.40184710702778403\n",
            " For epoch 117 : Train loss = 0.4316214836306042  and Val loss = 0.39455595792390596\n",
            " For epoch 118 : Train loss = 0.43186379306846195  and Val loss = 0.39255787298539424\n",
            " For epoch 119 : Train loss = 0.43032561077011955  and Val loss = 0.3902523420530599\n",
            " For epoch 120 : Train loss = 0.4308230198091931  and Val loss = 0.39680783272149966\n",
            " For epoch 121 : Train loss = 0.43172751035955215  and Val loss = 0.41625811761673503\n",
            " For epoch 122 : Train loss = 0.4404326577981313  and Val loss = 0.4009201796427533\n",
            " For epoch 123 : Train loss = 0.43105961713525986  and Val loss = 0.3904021220470071\n",
            " For epoch 124 : Train loss = 0.4273330999745263  and Val loss = 0.3917276462077286\n",
            " For epoch 125 : Train loss = 0.43448495368162793  and Val loss = 0.38838559051310995\n",
            " For epoch 126 : Train loss = 0.42853322956297135  and Val loss = 0.3918221643197626\n",
            " For epoch 127 : Train loss = 0.428874393304189  and Val loss = 0.3962161924943075\n",
            " For epoch 128 : Train loss = 0.4326836582687166  and Val loss = 0.396274115050403\n",
            " For epoch 129 : Train loss = 0.43129221763875747  and Val loss = 0.39309026749344866\n",
            " For epoch 130 : Train loss = 0.42910097539424896  and Val loss = 0.39622712180289454\n",
            " For epoch 131 : Train loss = 0.4288316352499856  and Val loss = 0.38740333927654547\n",
            " For epoch 132 : Train loss = 0.426589063472218  and Val loss = 0.3861172302565592\n",
            " For epoch 133 : Train loss = 0.42654380367861855  and Val loss = 0.38541138865411995\n",
            " For epoch 134 : Train loss = 0.42582951651679146  and Val loss = 0.3856768009340499\n",
            " For epoch 135 : Train loss = 0.4256448613272773  and Val loss = 0.38550172575771313\n",
            " For epoch 136 : Train loss = 0.43525009519524044  and Val loss = 0.3853521908667972\n",
            " For epoch 137 : Train loss = 0.4289305392238829  and Val loss = 0.3874634930061802\n",
            " For epoch 138 : Train loss = 0.4248352315690782  and Val loss = 0.3825853151665797\n",
            " For epoch 139 : Train loss = 0.42503179609775543  and Val loss = 0.3909894871116535\n",
            " For epoch 140 : Train loss = 0.4286726713180542  and Val loss = 0.3833134390952182\n",
            " For epoch 141 : Train loss = 0.4255885034799576  and Val loss = 0.3854496389083977\n",
            " For epoch 142 : Train loss = 0.4242057849963506  and Val loss = 0.390426862851605\n",
            " For epoch 143 : Train loss = 0.42835035423437756  and Val loss = 0.39154309344050375\n",
            " For epoch 144 : Train loss = 0.42850999534130096  and Val loss = 0.38357826009109885\n",
            " For epoch 145 : Train loss = 0.42870065404309166  and Val loss = 0.38203755997119515\n",
            " For epoch 146 : Train loss = 0.4295464472638236  and Val loss = 0.3815665406773405\n",
            " For epoch 147 : Train loss = 0.4262973798645867  and Val loss = 0.3841161486050595\n",
            " For epoch 148 : Train loss = 0.4288779977295134  and Val loss = 0.38078105712156685\n",
            " For epoch 149 : Train loss = 0.42726757129033405  and Val loss = 0.38237551284635174\n",
            "\n"
          ],
          "name": "stdout"
        }
      ]
    },
    {
      "cell_type": "code",
      "metadata": {
        "colab": {
          "base_uri": "https://localhost:8080/",
          "height": 530
        },
        "id": "i6lTJrlYgysK",
        "outputId": "9bdb84ea-0974-44f0-f0cc-b60dd6863a02"
      },
      "source": [
        "loss_stats_df = pd.DataFrame.from_dict(loss_stats)\r\n",
        "loss_stats_df =loss_stats_df.reset_index().melt(id_vars=[\"index\"]).rename(columns={\"index\":\"epochs\"})\r\n",
        "\r\n",
        "plt.figure(figsize=(15,8))\r\n",
        "sns.lineplot(data=loss_stats_df, x = \"epochs\", y=\"value\",hue=\"variable\").set_title('Train-Val Loss/Epoch')"
      ],
      "execution_count": 27,
      "outputs": [
        {
          "output_type": "execute_result",
          "data": {
            "text/plain": [
              "Text(0.5, 1.0, 'Train-Val Loss/Epoch')"
            ]
          },
          "metadata": {
            "tags": []
          },
          "execution_count": 27
        },
        {
          "output_type": "display_data",
          "data": {
            "image/png": "[encoded data removed]",
            "text/plain": [
              "<Figure size 1080x576 with 1 Axes>"
            ]
          },
          "metadata": {
            "tags": [],
            "needs_background": "light"
          }
        }
      ]
    },
    {
      "cell_type": "code",
      "metadata": {
        "id": "3jitImqvovau"
      },
      "source": [
        "y_pred_list = []\r\n",
        "with torch.no_grad():\r\n",
        "    model.eval()\r\n",
        "    for X_batch, _ in test_loader:\r\n",
        "        y_test_pred = model(X_batch)\r\n",
        "        y_pred_list.append(y_test_pred.numpy())\r\n",
        "y_pred_list = [a.squeeze().tolist() for a in y_pred_list]"
      ],
      "execution_count": 28,
      "outputs": []
    },
    {
      "cell_type": "code",
      "metadata": {
        "colab": {
          "base_uri": "https://localhost:8080/"
        },
        "id": "Xu1SkHYGfo4O",
        "outputId": "aaa6615c-ecb1-455c-d200-24cd6907b51b"
      },
      "source": [
        "mse = mean_squared_error(y_test, y_pred_list)\r\n",
        "r_square = r2_score(y_test, y_pred_list)\r\n",
        "print(\"Mean Squared Error :\",mse)\r\n",
        "print(\"R^2 :\",r_square)"
      ],
      "execution_count": 30,
      "outputs": [
        {
          "output_type": "stream",
          "text": [
            "Mean Squared Error : 0.4204297334834166\n",
            "R^2 : 0.34844717130725444\n"
          ],
          "name": "stdout"
        }
      ]
    },
    {
      "cell_type": "code",
      "metadata": {
        "id": "GJBs9A7ffqvR"
      },
      "source": [
        ""
      ],
      "execution_count": null,
      "outputs": []
    }
  ]
}